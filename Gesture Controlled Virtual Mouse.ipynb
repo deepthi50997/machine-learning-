{
  "nbformat": 4,
  "nbformat_minor": 0,
  "metadata": {
    "colab": {
      "provenance": [],
      "authorship_tag": "ABX9TyOPLxswuRuK/7QjYhAQmEtq",
      "include_colab_link": true
    },
    "kernelspec": {
      "name": "python3",
      "display_name": "Python 3"
    },
    "language_info": {
      "name": "python"
    }
  },
  "cells": [
    {
      "cell_type": "markdown",
      "metadata": {
        "id": "view-in-github",
        "colab_type": "text"
      },
      "source": [
        "<a href=\"https://colab.research.google.com/github/deepthi50997/machine-learning-/blob/main/Gesture%20Controlled%20Virtual%20Mouse.ipynb\" target=\"_parent\"><img src=\"https://colab.research.google.com/assets/colab-badge.svg\" alt=\"Open In Colab\"/></a>"
      ]
    },
    {
      "cell_type": "code",
      "execution_count": 1,
      "metadata": {
        "colab": {
          "base_uri": "https://localhost:8080/",
          "height": 1000
        },
        "id": "XeNqvK0YuoYz",
        "outputId": "abc2c396-f863-475f-91f5-6deed7b65ddd"
      },
      "outputs": [
        {
          "output_type": "stream",
          "name": "stdout",
          "text": [
            "Requirement already satisfied: opencv-python in /usr/local/lib/python3.11/dist-packages (4.12.0.88)\n",
            "Collecting mediapipe\n",
            "  Downloading mediapipe-0.10.21-cp311-cp311-manylinux_2_28_x86_64.whl.metadata (9.7 kB)\n",
            "Collecting pyautogui\n",
            "  Downloading PyAutoGUI-0.9.54.tar.gz (61 kB)\n",
            "\u001b[2K     \u001b[90m━━━━━━━━━━━━━━━━━━━━━━━━━━━━━━━━━━━━━━━━\u001b[0m \u001b[32m61.2/61.2 kB\u001b[0m \u001b[31m4.2 MB/s\u001b[0m eta \u001b[36m0:00:00\u001b[0m\n",
            "\u001b[?25h  Installing build dependencies ... \u001b[?25l\u001b[?25hdone\n",
            "  Getting requirements to build wheel ... \u001b[?25l\u001b[?25hdone\n",
            "  Preparing metadata (pyproject.toml) ... \u001b[?25l\u001b[?25hdone\n",
            "Requirement already satisfied: numpy<2.3.0,>=2 in /usr/local/lib/python3.11/dist-packages (from opencv-python) (2.0.2)\n",
            "Requirement already satisfied: absl-py in /usr/local/lib/python3.11/dist-packages (from mediapipe) (1.4.0)\n",
            "Requirement already satisfied: attrs>=19.1.0 in /usr/local/lib/python3.11/dist-packages (from mediapipe) (25.3.0)\n",
            "Requirement already satisfied: flatbuffers>=2.0 in /usr/local/lib/python3.11/dist-packages (from mediapipe) (25.2.10)\n",
            "Requirement already satisfied: jax in /usr/local/lib/python3.11/dist-packages (from mediapipe) (0.5.2)\n",
            "Requirement already satisfied: jaxlib in /usr/local/lib/python3.11/dist-packages (from mediapipe) (0.5.1)\n",
            "Requirement already satisfied: matplotlib in /usr/local/lib/python3.11/dist-packages (from mediapipe) (3.10.0)\n",
            "INFO: pip is looking at multiple versions of mediapipe to determine which version is compatible with other requirements. This could take a while.\n",
            "Collecting mediapipe\n",
            "  Downloading mediapipe-0.10.20-cp311-cp311-manylinux_2_28_x86_64.whl.metadata (9.7 kB)\n",
            "  Downloading mediapipe-0.10.18-cp311-cp311-manylinux_2_17_x86_64.manylinux2014_x86_64.whl.metadata (9.7 kB)\n",
            "  Downloading mediapipe-0.10.15-cp311-cp311-manylinux_2_17_x86_64.manylinux2014_x86_64.whl.metadata (9.7 kB)\n",
            "  Downloading mediapipe-0.10.14-cp311-cp311-manylinux_2_17_x86_64.manylinux2014_x86_64.whl.metadata (9.7 kB)\n",
            "Requirement already satisfied: opencv-contrib-python in /usr/local/lib/python3.11/dist-packages (from mediapipe) (4.12.0.88)\n",
            "Collecting protobuf<5,>=4.25.3 (from mediapipe)\n",
            "  Downloading protobuf-4.25.8-cp37-abi3-manylinux2014_x86_64.whl.metadata (541 bytes)\n",
            "Collecting sounddevice>=0.4.4 (from mediapipe)\n",
            "  Downloading sounddevice-0.5.2-py3-none-any.whl.metadata (1.6 kB)\n",
            "Collecting python3-Xlib (from pyautogui)\n",
            "  Downloading python3-xlib-0.15.tar.gz (132 kB)\n",
            "\u001b[2K     \u001b[90m━━━━━━━━━━━━━━━━━━━━━━━━━━━━━━━━━━━━━━━\u001b[0m \u001b[32m132.8/132.8 kB\u001b[0m \u001b[31m7.7 MB/s\u001b[0m eta \u001b[36m0:00:00\u001b[0m\n",
            "\u001b[?25h  Preparing metadata (setup.py) ... \u001b[?25l\u001b[?25hdone\n",
            "Collecting pymsgbox (from pyautogui)\n",
            "  Downloading PyMsgBox-1.0.9.tar.gz (18 kB)\n",
            "  Installing build dependencies ... \u001b[?25l\u001b[?25hdone\n",
            "  Getting requirements to build wheel ... \u001b[?25l\u001b[?25hdone\n",
            "  Preparing metadata (pyproject.toml) ... \u001b[?25l\u001b[?25hdone\n",
            "Collecting pytweening>=1.0.4 (from pyautogui)\n",
            "  Downloading pytweening-1.2.0.tar.gz (171 kB)\n",
            "\u001b[2K     \u001b[90m━━━━━━━━━━━━━━━━━━━━━━━━━━━━━━━━━━━━━━\u001b[0m \u001b[32m171.2/171.2 kB\u001b[0m \u001b[31m13.3 MB/s\u001b[0m eta \u001b[36m0:00:00\u001b[0m\n",
            "\u001b[?25h  Preparing metadata (setup.py) ... \u001b[?25l\u001b[?25hdone\n",
            "Collecting pyscreeze>=0.1.21 (from pyautogui)\n",
            "  Downloading pyscreeze-1.0.1.tar.gz (27 kB)\n",
            "  Installing build dependencies ... \u001b[?25l\u001b[?25hdone\n",
            "  Getting requirements to build wheel ... \u001b[?25l\u001b[?25hdone\n",
            "  Preparing metadata (pyproject.toml) ... \u001b[?25l\u001b[?25hdone\n",
            "Collecting pygetwindow>=0.0.5 (from pyautogui)\n",
            "  Downloading PyGetWindow-0.0.9.tar.gz (9.7 kB)\n",
            "  Preparing metadata (setup.py) ... \u001b[?25l\u001b[?25hdone\n",
            "Collecting mouseinfo (from pyautogui)\n",
            "  Downloading MouseInfo-0.1.3.tar.gz (10 kB)\n",
            "  Preparing metadata (setup.py) ... \u001b[?25l\u001b[?25hdone\n",
            "Collecting pyrect (from pygetwindow>=0.0.5->pyautogui)\n",
            "  Downloading PyRect-0.2.0.tar.gz (17 kB)\n",
            "  Preparing metadata (setup.py) ... \u001b[?25l\u001b[?25hdone\n",
            "Requirement already satisfied: Pillow>=9.3.0 in /usr/local/lib/python3.11/dist-packages (from pyscreeze>=0.1.21->pyautogui) (11.3.0)\n",
            "Requirement already satisfied: CFFI>=1.0 in /usr/local/lib/python3.11/dist-packages (from sounddevice>=0.4.4->mediapipe) (1.17.1)\n",
            "Requirement already satisfied: ml_dtypes>=0.4.0 in /usr/local/lib/python3.11/dist-packages (from jax->mediapipe) (0.4.1)\n",
            "Requirement already satisfied: opt_einsum in /usr/local/lib/python3.11/dist-packages (from jax->mediapipe) (3.4.0)\n",
            "Requirement already satisfied: scipy>=1.11.1 in /usr/local/lib/python3.11/dist-packages (from jax->mediapipe) (1.16.0)\n",
            "Requirement already satisfied: contourpy>=1.0.1 in /usr/local/lib/python3.11/dist-packages (from matplotlib->mediapipe) (1.3.2)\n",
            "Requirement already satisfied: cycler>=0.10 in /usr/local/lib/python3.11/dist-packages (from matplotlib->mediapipe) (0.12.1)\n",
            "Requirement already satisfied: fonttools>=4.22.0 in /usr/local/lib/python3.11/dist-packages (from matplotlib->mediapipe) (4.59.0)\n",
            "Requirement already satisfied: kiwisolver>=1.3.1 in /usr/local/lib/python3.11/dist-packages (from matplotlib->mediapipe) (1.4.8)\n",
            "Requirement already satisfied: packaging>=20.0 in /usr/local/lib/python3.11/dist-packages (from matplotlib->mediapipe) (25.0)\n",
            "Requirement already satisfied: pyparsing>=2.3.1 in /usr/local/lib/python3.11/dist-packages (from matplotlib->mediapipe) (3.2.3)\n",
            "Requirement already satisfied: python-dateutil>=2.7 in /usr/local/lib/python3.11/dist-packages (from matplotlib->mediapipe) (2.9.0.post0)\n",
            "Requirement already satisfied: pyperclip in /usr/local/lib/python3.11/dist-packages (from mouseinfo->pyautogui) (1.9.0)\n",
            "Requirement already satisfied: pycparser in /usr/local/lib/python3.11/dist-packages (from CFFI>=1.0->sounddevice>=0.4.4->mediapipe) (2.22)\n",
            "Requirement already satisfied: six>=1.5 in /usr/local/lib/python3.11/dist-packages (from python-dateutil>=2.7->matplotlib->mediapipe) (1.17.0)\n",
            "Downloading mediapipe-0.10.14-cp311-cp311-manylinux_2_17_x86_64.manylinux2014_x86_64.whl (35.7 MB)\n",
            "\u001b[2K   \u001b[90m━━━━━━━━━━━━━━━━━━━━━━━━━━━━━━━━━━━━━━━━\u001b[0m \u001b[32m35.7/35.7 MB\u001b[0m \u001b[31m44.5 MB/s\u001b[0m eta \u001b[36m0:00:00\u001b[0m\n",
            "\u001b[?25hDownloading protobuf-4.25.8-cp37-abi3-manylinux2014_x86_64.whl (294 kB)\n",
            "\u001b[2K   \u001b[90m━━━━━━━━━━━━━━━━━━━━━━━━━━━━━━━━━━━━━━━━\u001b[0m \u001b[32m294.9/294.9 kB\u001b[0m \u001b[31m20.2 MB/s\u001b[0m eta \u001b[36m0:00:00\u001b[0m\n",
            "\u001b[?25hDownloading sounddevice-0.5.2-py3-none-any.whl (32 kB)\n",
            "Building wheels for collected packages: pyautogui, pygetwindow, pyscreeze, pytweening, mouseinfo, pymsgbox, python3-Xlib, pyrect\n",
            "  Building wheel for pyautogui (pyproject.toml) ... \u001b[?25l\u001b[?25hdone\n",
            "  Created wheel for pyautogui: filename=pyautogui-0.9.54-py3-none-any.whl size=37684 sha256=f0cd3006aa89051971c520dfd46132aab820e4040b14ee494568aee92f759732\n",
            "  Stored in directory: /root/.cache/pip/wheels/95/dc/b1/fe122b791e0db8bf439a0e6e1d2628e48f10bf430cae13521b\n",
            "  Building wheel for pygetwindow (setup.py) ... \u001b[?25l\u001b[?25hdone\n",
            "  Created wheel for pygetwindow: filename=PyGetWindow-0.0.9-py3-none-any.whl size=11063 sha256=050289f276c36543ae49f686232f2b883cd59729c57121853497486d5c721315\n",
            "  Stored in directory: /root/.cache/pip/wheels/07/75/0b/7ca0b598eb4c21d43ba4bcc78a0538dfcf803a5997da33bc19\n",
            "  Building wheel for pyscreeze (pyproject.toml) ... \u001b[?25l\u001b[?25hdone\n",
            "  Created wheel for pyscreeze: filename=pyscreeze-1.0.1-py3-none-any.whl size=14459 sha256=dc1c4e024c05d44596a81986affb1fff2bd64cee81a0a808f6a4e3e6a7f1dfab\n",
            "  Stored in directory: /root/.cache/pip/wheels/cd/e3/dd/267b393d8e8f607e47194942740d080d9bfd835cd4375a3de1\n",
            "  Building wheel for pytweening (setup.py) ... \u001b[?25l\u001b[?25hdone\n",
            "  Created wheel for pytweening: filename=pytweening-1.2.0-py3-none-any.whl size=8009 sha256=97bb8bb1bb1dad9d3ce193e9b5d441b04f1be2a5c665ba009dd0b2313c77c97a\n",
            "  Stored in directory: /root/.cache/pip/wheels/db/81/dc/0d61a3c9614f288e057ab63924e2a49edbeed4ffc916dcda1e\n",
            "  Building wheel for mouseinfo (setup.py) ... \u001b[?25l\u001b[?25hdone\n",
            "  Created wheel for mouseinfo: filename=MouseInfo-0.1.3-py3-none-any.whl size=10888 sha256=084630366fbcf22df431a011fb404946d8a6da0447962d3dcb48530aa5483c17\n",
            "  Stored in directory: /root/.cache/pip/wheels/20/0b/7f/939ac9ff785b09951c706150537572c00123412f260a6024f3\n",
            "  Building wheel for pymsgbox (pyproject.toml) ... \u001b[?25l\u001b[?25hdone\n",
            "  Created wheel for pymsgbox: filename=pymsgbox-1.0.9-py3-none-any.whl size=7453 sha256=57a720dcb9bb67b04c7ffe47171561846154766afdd6130d53fd965d841b3b11\n",
            "  Stored in directory: /root/.cache/pip/wheels/85/92/63/e126ee5f33d8f2ed04f96e43ef5df7270a2f331848752e8662\n",
            "  Building wheel for python3-Xlib (setup.py) ... \u001b[?25l\u001b[?25hdone\n",
            "  Created wheel for python3-Xlib: filename=python3_xlib-0.15-py3-none-any.whl size=109501 sha256=b407aa732d995a18851e8a80f32851b975a2308c1ef22f09f6541a1deedb4b4c\n",
            "  Stored in directory: /root/.cache/pip/wheels/58/d2/1b/c2247396a6c5fbb1900ccf1ec3b73482d428b137dcdf1d99de\n",
            "  Building wheel for pyrect (setup.py) ... \u001b[?25l\u001b[?25hdone\n",
            "  Created wheel for pyrect: filename=PyRect-0.2.0-py2.py3-none-any.whl size=11181 sha256=f8afb9bae9a426fd1d26c616e6503e3a1589ad8b27301c254d3d9120471ebf62\n",
            "  Stored in directory: /root/.cache/pip/wheels/c4/e9/fc/b7a666dd4f9a3168fb44d643079b41d36ddab52f470707e820\n",
            "Successfully built pyautogui pygetwindow pyscreeze pytweening mouseinfo pymsgbox python3-Xlib pyrect\n",
            "Installing collected packages: pytweening, python3-Xlib, pyrect, pymsgbox, pyscreeze, pygetwindow, protobuf, mouseinfo, sounddevice, pyautogui, mediapipe\n",
            "  Attempting uninstall: protobuf\n",
            "    Found existing installation: protobuf 5.29.5\n",
            "    Uninstalling protobuf-5.29.5:\n",
            "      Successfully uninstalled protobuf-5.29.5\n",
            "\u001b[31mERROR: pip's dependency resolver does not currently take into account all the packages that are installed. This behaviour is the source of the following dependency conflicts.\n",
            "ydf 0.13.0 requires protobuf<7.0.0,>=5.29.1, but you have protobuf 4.25.8 which is incompatible.\n",
            "grpcio-status 1.71.2 requires protobuf<6.0dev,>=5.26.1, but you have protobuf 4.25.8 which is incompatible.\u001b[0m\u001b[31m\n",
            "\u001b[0mSuccessfully installed mediapipe-0.10.14 mouseinfo-0.1.3 protobuf-4.25.8 pyautogui-0.9.54 pygetwindow-0.0.9 pymsgbox-1.0.9 pyrect-0.2.0 pyscreeze-1.0.1 python3-Xlib-0.15 pytweening-1.2.0 sounddevice-0.5.2\n"
          ]
        },
        {
          "output_type": "display_data",
          "data": {
            "application/vnd.colab-display-data+json": {
              "pip_warning": {
                "packages": [
                  "google"
                ]
              },
              "id": "a2ee5e8a5cfa4252a101b20014c67e25"
            }
          },
          "metadata": {}
        }
      ],
      "source": [
        "pip install opencv-python mediapipe pyautogui"
      ]
    },
    {
      "cell_type": "code",
      "source": [
        "!python gesture_mouse.py"
      ],
      "metadata": {
        "colab": {
          "base_uri": "https://localhost:8080/"
        },
        "id": "IW05avgeu2la",
        "outputId": "f0dbbaa6-3037-4482-98a3-6cebad024b9d"
      },
      "execution_count": 4,
      "outputs": [
        {
          "output_type": "stream",
          "name": "stdout",
          "text": [
            "python3: can't open file '/content/gesture_mouse.py': [Errno 2] No such file or directory\n"
          ]
        }
      ]
    },
    {
      "cell_type": "code",
      "source": [
        "import cv2\n",
        "import mediapipe as mp\n",
        "import pyautogui\n",
        "import time\n",
        "import numpy as np\n",
        "from google.colab.patches import cv2_imshow\n",
        "\n",
        "# Initialize MediaPipe and PyAutoGUI\n",
        "mp_hands = mp.solutions.hands\n",
        "hands = mp_hands.Hands(max_num_hands=1, min_detection_confidence=0.7)\n",
        "mp_draw = mp.solutions.drawing_utils\n",
        "\n",
        "# Get screen size (this might not work as expected in a headless environment)\n",
        "# Consider if you actually need pyautogui's screen size for this application in Colab\n",
        "screen_w, screen_h = pyautogui.size()\n",
        "\n",
        "\n",
        "# Start webcam\n",
        "cap = cv2.VideoCapture(0)\n",
        "prev_click_time = 0\n",
        "\n",
        "while True:\n",
        "    success, frame = cap.read()\n",
        "    if not success:\n",
        "        break\n",
        "\n",
        "    frame = cv2.flip(frame, 1)\n",
        "    h, w, _ = frame.shape\n",
        "\n",
        "    rgb = cv2.cvtColor(frame, cv2.COLOR_BGR2RGB)\n",
        "    result = hands.process(rgb)\n",
        "\n",
        "    if result.multi_hand_landmarks:\n",
        "        for hand_landmarks in result.multi_hand_landmarks:\n",
        "            mp_draw.draw_landmarks(frame, hand_landmarks, mp_hands.HAND_CONNECTIONS)\n",
        "\n",
        "            # Get coordinates of index finger tip and thumb tip\n",
        "            index_tip = hand_landmarks.landmark[8]\n",
        "            thumb_tip = hand_landmarks.landmark[4]\n",
        "\n",
        "            index_x = int(index_tip.x * w)\n",
        "            index_y = int(index_tip.y * h)\n",
        "\n",
        "            # Map hand position to screen coordinates\n",
        "            # Adjust scaling and offset as needed for your use case in Colab\n",
        "            screen_x = int(index_tip.x * screen_w)\n",
        "            screen_y = int(index_tip.y * screen_h)\n",
        "\n",
        "            # Move the mouse to index finger position (this might not function\n",
        "            # as a typical mouse in the Colab environment)\n",
        "            pyautogui.moveTo(screen_x, screen_y)\n",
        "\n",
        "            # Distance between index and thumb to detect \"click\"\n",
        "            distance = np.linalg.norm(\n",
        "                np.array([index_x, index_y]) -\n",
        "                np.array([int(thumb_tip.x * w), int(thumb_tip.y * h)])\n",
        "            )\n",
        "\n",
        "            if distance < 40:\n",
        "                current_time = time.time()\n",
        "                if current_time - prev_click_time > 0.5:\n",
        "                    # Simulate a click (this might not function as a typical\n",
        "                    # click in the Colab environment)\n",
        "                    pyautogui.click()\n",
        "                    prev_click_time = current_time\n",
        "                    cv2.putText(frame, 'Click!', (index_x, index_y - 20),\n",
        "                                cv2.FONT_HERSHEY_SIMPLEX, 1, (0, 255, 0), 2)\n",
        "\n",
        "            cv2.circle(frame, (index_x, index_y), 8, (255, 0, 255), -1)\n",
        "\n",
        "    # Use cv2_imshow to display the frame in the Colab output\n",
        "    cv2_imshow(frame)\n",
        "\n",
        "    # Check for ESC key press (this might not work as expected with cv2_imshow)\n",
        "    # You might need a different mechanism to stop the loop in Colab\n",
        "    if cv2.waitKey(1) & 0xFF == 27:  # ESC key to stop\n",
        "        break\n",
        "\n",
        "cap.release()\n",
        "cv2.destroyAllWindows()"
      ],
      "metadata": {
        "colab": {
          "base_uri": "https://localhost:8080/",
          "height": 269
        },
        "id": "pPVosfKRu6E6",
        "outputId": "b33cac1e-16f0-4007-92ea-5433706b73a4"
      },
      "execution_count": 6,
      "outputs": [
        {
          "output_type": "error",
          "ename": "KeyError",
          "evalue": "'DISPLAY'",
          "traceback": [
            "\u001b[0;31m---------------------------------------------------------------------------\u001b[0m",
            "\u001b[0;31mKeyError\u001b[0m                                  Traceback (most recent call last)",
            "\u001b[0;32m/tmp/ipython-input-1653736446.py\u001b[0m in \u001b[0;36m<cell line: 0>\u001b[0;34m()\u001b[0m\n\u001b[1;32m      1\u001b[0m \u001b[0;32mimport\u001b[0m \u001b[0mcv2\u001b[0m\u001b[0;34m\u001b[0m\u001b[0;34m\u001b[0m\u001b[0m\n\u001b[1;32m      2\u001b[0m \u001b[0;32mimport\u001b[0m \u001b[0mmediapipe\u001b[0m \u001b[0;32mas\u001b[0m \u001b[0mmp\u001b[0m\u001b[0;34m\u001b[0m\u001b[0;34m\u001b[0m\u001b[0m\n\u001b[0;32m----> 3\u001b[0;31m \u001b[0;32mimport\u001b[0m \u001b[0mpyautogui\u001b[0m\u001b[0;34m\u001b[0m\u001b[0;34m\u001b[0m\u001b[0m\n\u001b[0m\u001b[1;32m      4\u001b[0m \u001b[0;32mimport\u001b[0m \u001b[0mtime\u001b[0m\u001b[0;34m\u001b[0m\u001b[0;34m\u001b[0m\u001b[0m\n\u001b[1;32m      5\u001b[0m \u001b[0;32mimport\u001b[0m \u001b[0mnumpy\u001b[0m \u001b[0;32mas\u001b[0m \u001b[0mnp\u001b[0m\u001b[0;34m\u001b[0m\u001b[0;34m\u001b[0m\u001b[0m\n",
            "\u001b[0;32m/usr/local/lib/python3.11/dist-packages/pyautogui/__init__.py\u001b[0m in \u001b[0;36m<module>\u001b[0;34m\u001b[0m\n\u001b[1;32m    244\u001b[0m \u001b[0;34m\u001b[0m\u001b[0m\n\u001b[1;32m    245\u001b[0m \u001b[0;32mtry\u001b[0m\u001b[0;34m:\u001b[0m\u001b[0;34m\u001b[0m\u001b[0;34m\u001b[0m\u001b[0m\n\u001b[0;32m--> 246\u001b[0;31m     \u001b[0;32mimport\u001b[0m \u001b[0mmouseinfo\u001b[0m\u001b[0;34m\u001b[0m\u001b[0;34m\u001b[0m\u001b[0m\n\u001b[0m\u001b[1;32m    247\u001b[0m \u001b[0;34m\u001b[0m\u001b[0m\n\u001b[1;32m    248\u001b[0m     \u001b[0;32mdef\u001b[0m \u001b[0mmouseInfo\u001b[0m\u001b[0;34m(\u001b[0m\u001b[0;34m)\u001b[0m\u001b[0;34m:\u001b[0m\u001b[0;34m\u001b[0m\u001b[0;34m\u001b[0m\u001b[0m\n",
            "\u001b[0;32m/usr/local/lib/python3.11/dist-packages/mouseinfo/__init__.py\u001b[0m in \u001b[0;36m<module>\u001b[0;34m\u001b[0m\n\u001b[1;32m    221\u001b[0m             \u001b[0;32mraise\u001b[0m\u001b[0;34m\u001b[0m\u001b[0;34m\u001b[0m\u001b[0m\n\u001b[1;32m    222\u001b[0m \u001b[0;34m\u001b[0m\u001b[0m\n\u001b[0;32m--> 223\u001b[0;31m     \u001b[0m_display\u001b[0m \u001b[0;34m=\u001b[0m \u001b[0mDisplay\u001b[0m\u001b[0;34m(\u001b[0m\u001b[0mos\u001b[0m\u001b[0;34m.\u001b[0m\u001b[0menviron\u001b[0m\u001b[0;34m[\u001b[0m\u001b[0;34m'DISPLAY'\u001b[0m\u001b[0;34m]\u001b[0m\u001b[0;34m)\u001b[0m\u001b[0;34m\u001b[0m\u001b[0;34m\u001b[0m\u001b[0m\n\u001b[0m\u001b[1;32m    224\u001b[0m \u001b[0;34m\u001b[0m\u001b[0m\n\u001b[1;32m    225\u001b[0m     \u001b[0;32mdef\u001b[0m \u001b[0m_linuxPosition\u001b[0m\u001b[0;34m(\u001b[0m\u001b[0;34m)\u001b[0m\u001b[0;34m:\u001b[0m\u001b[0;34m\u001b[0m\u001b[0;34m\u001b[0m\u001b[0m\n",
            "\u001b[0;32m/usr/lib/python3.11/os.py\u001b[0m in \u001b[0;36m__getitem__\u001b[0;34m(self, key)\u001b[0m\n",
            "\u001b[0;31mKeyError\u001b[0m: 'DISPLAY'"
          ]
        }
      ]
    }
  ]
}