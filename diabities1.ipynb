{
  "nbformat": 4,
  "nbformat_minor": 0,
  "metadata": {
    "colab": {
      "provenance": [],
      "authorship_tag": "ABX9TyPy+99eUJwQ8E0/BPgOMfyn",
      "include_colab_link": true
    },
    "kernelspec": {
      "name": "python3",
      "display_name": "Python 3"
    },
    "language_info": {
      "name": "python"
    }
  },
  "cells": [
    {
      "cell_type": "markdown",
      "metadata": {
        "id": "view-in-github",
        "colab_type": "text"
      },
      "source": [
        "<a href=\"https://colab.research.google.com/github/deepthi50997/machine-learning-/blob/main/diabities1.ipynb\" target=\"_parent\"><img src=\"https://colab.research.google.com/assets/colab-badge.svg\" alt=\"Open In Colab\"/></a>"
      ]
    },
    {
      "cell_type": "code",
      "execution_count": null,
      "metadata": {
        "colab": {
          "base_uri": "https://localhost:8080/"
        },
        "id": "lB5ap3csuCxy",
        "outputId": "25ed9705-f70b-463a-d747-3e792a19d9a4"
      },
      "outputs": [
        {
          "output_type": "stream",
          "name": "stdout",
          "text": [
            "[0]\n",
            "non diabetic\n"
          ]
        },
        {
          "output_type": "stream",
          "name": "stderr",
          "text": [
            "/usr/local/lib/python3.11/dist-packages/sklearn/utils/validation.py:2739: UserWarning: X does not have valid feature names, but SVC was fitted with feature names\n",
            "  warnings.warn(\n"
          ]
        }
      ],
      "source": [
        "import numpy as np\n",
        "import pandas as pd\n",
        "from sklearn.model_selection import train_test_split\n",
        "from sklearn import svm\n",
        "from sklearn.metrics import accuracy_score\n",
        "\n",
        "\n",
        "df=pd.read_csv('/content/diabetes.csv')\n",
        "x=df.drop(columns='Outcome',axis=1)\n",
        "y=df['Outcome']\n",
        "x_train,x_test,y_train,y_test=train_test_split(x,y,test_size=0.2,stratify=y,random_state=2)\n",
        "\n",
        "\n",
        "\n",
        "model=svm.SVC(kernel='linear')\n",
        "model.fit(x_train,y_train)\n",
        "\n",
        "pre=model.predict(x_train)\n",
        "preacc=accuracy_score(pre,y_train)\n",
        "\n",
        "input=(4,110,92,0,0,37.6,0.191,30)\n",
        "iasarr=np.asarray(input)\n",
        "re=iasarr.reshape(1,-1)\n",
        "\n",
        "\n",
        "p=model.predict(re)\n",
        "print(p)\n",
        "if(p==1):\n",
        "  print(\"diabetic\")\n",
        "else:\n",
        "  print(\"non diabetic\")"
      ]
    },
    {
      "cell_type": "code",
      "source": [],
      "metadata": {
        "id": "SpdkcPh5C18T",
        "colab": {
          "base_uri": "https://localhost:8080/"
        },
        "outputId": "7b8a3cc9-c651-43ed-b9d0-8db6ed8c50d8"
      },
      "execution_count": null,
      "outputs": [
        {
          "output_type": "stream",
          "name": "stdout",
          "text": [
            "fatal: not a git repository (or any of the parent directories): .git\n"
          ]
        }
      ]
    }
  ]
}